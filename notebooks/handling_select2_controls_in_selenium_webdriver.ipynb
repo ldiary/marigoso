{
 "cells": [
  {
   "cell_type": "markdown",
   "metadata": {},
   "source": [
    "## Handling Select2 Controls in Selenium WebDriver\n",
    "[Select2](https://github.com/select2/select2) is a jQuery based replacement for select boxes. This article will demonstrate how Selenium webdriver can handle Select2 by manipulating the first such selection box in the [Examples page](https://select2.github.io/examples.html) of Select2.\n"
   ]
  },
  {
   "cell_type": "markdown",
   "metadata": {},
   "source": [
    "### Creating an instance of Selenium webdriver equipped with Firefox Extensions\n",
    "[Firebug](http://getfirebug.com/) and [FirePath](https://addons.mozilla.org/ja/firefox/addon/firepath/) are very helpful Firefox extensions that I want to use in this demonstration, so I will make Selenium launch a Firefox browser equipped with these extensions."
   ]
  },
  {
   "cell_type": "code",
   "execution_count": 2,
   "metadata": {
    "collapsed": true
   },
   "outputs": [],
   "source": [
    "import os\n",
    "from marigoso import Test\n",
    "request = {\n",
    "    'firefox': {\n",
    "        'extensions_path': os.path.join(os.getcwd(), 'tools', 'firefox'),\n",
    "        'extensions':      ['firebug@software.joehewitt.com.xpi', 'FireXPath@pierre.tholence.com.xpi'],\n",
    "    }\n",
    "}\n",
    "browser = Test(request).launch_browser('Firefox')"
   ]
  },
  {
   "cell_type": "markdown",
   "metadata": {},
   "source": [
    "Note that in order for the extensions to be installed in the browser, you need to either specify an extension enabled Firefox profile to Selenium or you specify the location and name of Firefox extensions you want to install. In the above example, I have Firebug and FirePath files stored in 'tools\\firefox' folder so I can just specify the location and filenames of the extensions."
   ]
  },
  {
   "cell_type": "markdown",
   "metadata": {},
   "source": [
    "### Navigate to Select2 Examples page"
   ]
  },
  {
   "cell_type": "code",
   "execution_count": 3,
   "metadata": {
    "collapsed": true
   },
   "outputs": [],
   "source": [
    "browser.get_url('https://select2.github.io/')\n",
    "browser.press(\"Examples\")"
   ]
  },
  {
   "cell_type": "markdown",
   "metadata": {},
   "source": [
    "### Identify the locator for the Selection Box\n",
    "Right click on the first Select2 box and select '**Inspect Element with Firebug**'"
   ]
  },
  {
   "cell_type": "markdown",
   "metadata": {},
   "source": [
    "![blank](https://github.com/ldiary/marigoso/blob/master/notes/images/selec2_01.PNG?raw=true)"
   ]
  },
  {
   "cell_type": "markdown",
   "metadata": {},
   "source": [
    "Firebug will then display and highlight the HTML source of the Selection Box as well as highlight the control itself if you hover your mouse to the HTML source."
   ]
  },
  {
   "cell_type": "markdown",
   "metadata": {},
   "source": [
    "![blank](https://github.com/ldiary/marigoso/blob/master/notes/images/selec2_02.PNG?raw=true)"
   ]
  },
  {
   "cell_type": "markdown",
   "metadata": {},
   "source": [
    "We now have the task of figuring out what locator we can use to locate this Selection Box. The Selection Box is a 'span' element with an id=\"select2-jnw9-container\", we can surely make use of this id attribute. However, it appears that this id is randomly generated so I made a slight modification to make sure my locator will still work even if the page is refreshed."
   ]
  },
  {
   "cell_type": "markdown",
   "metadata": {},
   "source": [
    "### Verify the adopted locator works\n",
    "In the Firebug window, click on 'FirePath' tab. Click on the dropdown before the input box and select 'CSS:'. Then enter \"[id^='select2']\" in the input box and press Enter key."
   ]
  },
  {
   "cell_type": "markdown",
   "metadata": {},
   "source": [
    "![blank](https://github.com/ldiary/marigoso/blob/master/notes/images/selec2_03.PNG?raw=true)"
   ]
  },
  {
   "cell_type": "markdown",
   "metadata": {},
   "source": [
    "Firebug will now display the same thing as before, but notice now that at the lower left part of Firebug window it says '17 matching nodes'. This means we have 17 such Selection Box that can be located using my chosen selector. However, this time we are only interested on the first Selection Box, so I think my chosen selector is still useful."
   ]
  },
  {
   "cell_type": "markdown",
   "metadata": {},
   "source": [
    "The ultimate way to verify that the locator works is to feed it to Selenium and run it. So we execute the following command."
   ]
  },
  {
   "cell_type": "code",
   "execution_count": 4,
   "metadata": {
    "collapsed": true
   },
   "outputs": [],
   "source": [
    "browser.press(\"css=[id^='select2']\" )"
   ]
  },
  {
   "cell_type": "markdown",
   "metadata": {},
   "source": [
    "If the Selection Dropdown appears upon executing the above command, then we are on the right track. You can run the above command several times to confirm the closing and opening of the selection dropdown."
   ]
  },
  {
   "cell_type": "markdown",
   "metadata": {},
   "source": [
    "### Identify the locator for the Selection Dropdown\n",
    "We now need to identify the locator for the Selection Dropdown. We do this by clicking back on the 'HTML' tab in the Firebug window and observing that when you manually click on the Selection Box another 'span' element is dynamically being added at the buttom of the HTML source."
   ]
  },
  {
   "cell_type": "markdown",
   "metadata": {},
   "source": [
    "![blank](https://github.com/ldiary/marigoso/blob/master/notes/images/selec2_04.PNG?raw=true)"
   ]
  },
  {
   "cell_type": "markdown",
   "metadata": {},
   "source": [
    "We can use previous technique of locating the Selection Box above to arrive to a conclusion that the locator for Selection Dropdown could be 'css=span.select2-dropdown > span > ul'. Note that in this case we specifically located until the 'ul' tag element. This is because the options for Select2 are not 'option' tag elements, instead they are 'li' elements of a 'ul' tag."
   ]
  },
  {
   "cell_type": "markdown",
   "metadata": {},
   "source": [
    "![blank](https://github.com/ldiary/marigoso/blob/master/notes/images/selec2_05.PNG?raw=true)"
   ]
  },
  {
   "cell_type": "markdown",
   "metadata": {},
   "source": [
    "### Verify that both Selection Box and Dropdown works\n",
    "After all this hardwork of figuring out the best locators for Selection Box and Selection Dropdown, we then test it to see if we can now properly handle Select2. Marigoso offers two syntax for performing the same action."
   ]
  },
  {
   "cell_type": "markdown",
   "metadata": {},
   "source": [
    "#### select_text\n",
    "We can use the usual select_text function by just appending the Select Dropdown locator at the end."
   ]
  },
  {
   "cell_type": "code",
   "execution_count": 5,
   "metadata": {
    "collapsed": true
   },
   "outputs": [],
   "source": [
    "browser.select_text(\"css=*[id^='select2']\", \"Nevada\", 'css=span.select2-dropdown > span > ul')"
   ]
  },
  {
   "cell_type": "markdown",
   "metadata": {},
   "source": [
    "#### select2\n",
    "We can also use the select2 function of Marigoso by swapping the order of the Selection Dropdown locator and the value of the text you want to select."
   ]
  },
  {
   "cell_type": "code",
   "execution_count": 6,
   "metadata": {
    "collapsed": true
   },
   "outputs": [],
   "source": [
    "browser.select2(\"css=*[id^='select2']\", 'css=span.select2-dropdown > span > ul', \"Hawaii\")"
   ]
  },
  {
   "cell_type": "markdown",
   "metadata": {},
   "source": [
    "## Final Solution\n",
    "Finally, here again is the summary of the necessary commands used in this demonstration."
   ]
  },
  {
   "cell_type": "code",
   "execution_count": 7,
   "metadata": {
    "collapsed": true
   },
   "outputs": [],
   "source": [
    "import os\n",
    "from marigoso import Test\n",
    "request = {\n",
    "    'firefox': {\n",
    "        'extensions_path': os.path.join(os.getcwd(), 'tools', 'firefox'),\n",
    "        'extensions':      ['firebug@software.joehewitt.com.xpi', 'FireXPath@pierre.tholence.com.xpi'],\n",
    "    }\n",
    "}\n",
    "browser = Test(request).launch_browser('Firefox')\n",
    "browser.get_url('https://select2.github.io/')\n",
    "browser.press(\"Examples\")\n",
    "browser.select_text(\"css=*[id^='select2']\", \"Nevada\", 'css=span.select2-dropdown > span > ul')\n",
    "browser.quit()"
   ]
  }
 ],
 "metadata": {
  "kernelspec": {
   "display_name": "Python 3",
   "language": "python",
   "name": "python3"
  },
  "language_info": {
   "codemirror_mode": {
    "name": "ipython",
    "version": 3
   },
   "file_extension": ".py",
   "mimetype": "text/x-python",
   "name": "python",
   "nbconvert_exporter": "python",
   "pygments_lexer": "ipython3",
   "version": "3.5.1"
  }
 },
 "nbformat": 4,
 "nbformat_minor": 0
}
