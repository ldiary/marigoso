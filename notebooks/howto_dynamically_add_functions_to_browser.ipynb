{
 "cells": [
  {
   "cell_type": "markdown",
   "metadata": {},
   "source": [
    "## How to dynamically add functionalities to the Browser\n",
    "Suppose you want to add a *login* function to the Browser. "
   ]
  },
  {
   "cell_type": "code",
   "execution_count": null,
   "metadata": {
    "collapsed": true
   },
   "outputs": [],
   "source": [
    "from marigoso import Test\n",
    "test = Test()\n",
    "browser = test.launch_browser(\"Firefox\")\n",
    "data = {\n",
    "    'url': \"http://pytest.uk\",\n",
    "    'username': \"myusername\",\n",
    "    'password': \"mysecret\"\n",
    "}"
   ]
  },
  {
   "cell_type": "markdown",
   "metadata": {},
   "source": [
    "You can define such a function at any point in your testbook. Note that you need to use **self** inside your function definition rather than using the word *browser*."
   ]
  },
  {
   "cell_type": "code",
   "execution_count": null,
   "metadata": {
    "collapsed": true
   },
   "outputs": [],
   "source": [
    "def login(self, data):\n",
    "    self.get_url(data['url'])\n",
    "    if self.is_available('name=credential_0', 1):\n",
    "        self.kb_type('name=credential_0', data['username'])\n",
    "        self.kb_type('name=credential_1', data['password'])\n",
    "        self.submit_btn('Login')\n",
    "    assert self.is_available(\"Logout\")\n",
    "    return self.get_element(\"id=logged_in_user\").text"
   ]
  },
  {
   "cell_type": "markdown",
   "metadata": {},
   "source": [
    "Once defined, you can call the **register_function** method of **test** object to attach the function to the **browser** object."
   ]
  },
  {
   "cell_type": "code",
   "execution_count": 1,
   "metadata": {
    "collapsed": true
   },
   "outputs": [],
   "source": [
    "test.register_function(\"browser\", [login])"
   ]
  },
  {
   "cell_type": "markdown",
   "metadata": {},
   "source": [
    "You can then confirm that the **login** is now a bound method of **browser** and can be used right away just like any other methods bound to browser."
   ]
  },
  {
   "cell_type": "code",
   "execution_count": 4,
   "metadata": {
    "collapsed": false
   },
   "outputs": [
    {
     "data": {
      "text/plain": [
       "<bound method login of <marigoso.test.Mixin (session=\"d000cb53-c0d9-4c4f-9c86-ec13350d760f\")>>"
      ]
     },
     "execution_count": 4,
     "metadata": {},
     "output_type": "execute_result"
    }
   ],
   "source": [
    "browser.login"
   ]
  },
  {
   "cell_type": "markdown",
   "metadata": {},
   "source": [
    "In fact, using the same \"register_function\" method of the **test** object, you can dynamically attach functions to any attributes of **test**. The \"register_function\" accepts a list of functions as an argument so you can register multiple functions at once. And when you have a lot of these function extensions, you can group and organize them inside a class using the \"register_classes\" method of the **test** object."
   ]
  }
 ],
 "metadata": {
  "kernelspec": {
   "display_name": "Python 3",
   "language": "python",
   "name": "python3"
  },
  "language_info": {
   "codemirror_mode": {
    "name": "ipython",
    "version": 3
   },
   "file_extension": ".py",
   "mimetype": "text/x-python",
   "name": "python",
   "nbconvert_exporter": "python",
   "pygments_lexer": "ipython3",
   "version": "3.5.0"
  }
 },
 "nbformat": 4,
 "nbformat_minor": 0
}
