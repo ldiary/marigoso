{
 "cells": [
  {
   "cell_type": "markdown",
   "metadata": {},
   "source": [
    "## How to obtain more detailed traceback from failing testbooks\n",
    "When testbooks are importing functions written in a different notebook, sometimes the traceback that you get are not very helpful."
   ]
  },
  {
   "cell_type": "markdown",
   "metadata": {},
   "source": [
    "```\n",
    "---------------------------------------------------------------------------\n",
    "IndexError                                Traceback (most recent call last)\n",
    "<ipython-input-9-e035eae301fc> in <module>()\n",
    "----> 1 test.Angora.read_opdmr(\"Portal User Permissions\")\n",
    "\n",
    "C:\\Users\\ernesto.luzon\\tronline\\nboss-ci\\testrunner\\notebooks\\Angora.ipynb in read_opdmr(self, header, target_row)\n",
    "\n",
    "C:\\Users\\ernesto.luzon\\tronline\\nboss-ci\\testrunner\\notebooks\\TableReaders.ipynb in get_table(self, coordinate, target_row)\n",
    "\n",
    "IndexError: list index out of range\n",
    "```"
   ]
  },
  {
   "cell_type": "markdown",
   "metadata": {},
   "source": [
    "In order to get a more detailed traceback, you can override the imported functions by copy and pasting it to your current testbook. You will need the \"register_function\" to do this."
   ]
  },
  {
   "cell_type": "markdown",
   "metadata": {},
   "source": [
    "```\n",
    "---------------------------------------------------------------------------\n",
    "IndexError                                Traceback (most recent call last)\n",
    "<ipython-input-21-80abfe58cf7c> in <module>()\n",
    "      2                    \"/../../../../following-sibling::\"\n",
    "      3                    \"div/div/table\")\n",
    "----> 4 browser.get_table(locator.format(\"Portal User Permissions\"))\n",
    "\n",
    "<ipython-input-20-145957924c5f> in get_table(self, coordinate, target_row)\n",
    "     53         # This handles the rowspan\n",
    "     54         for i in range(columns + index):\n",
    "---> 55             dictionary[headers[i]].append(dictionary[headers[i]][-1])\n",
    "     56         num += 1\n",
    "     57         if target_row is not None:\n",
    "\n",
    "IndexError: list index out of range\n",
    "```"
   ]
  },
  {
   "cell_type": "code",
   "execution_count": 1,
   "metadata": {
    "collapsed": true
   },
   "outputs": [],
   "source": [
    "trace = 'data.pp_username = test.configparser.data(\"pp_username\")\\ndata.pp_password = test.configparser.data(\"pp_password\")\\ndata.partner = test.Angora.login_pp(data)\\n\\ntest.current_user = test.Angora.login_op(data)\\nbrowser.press(test.current_user)\\nbrowser.press(\"css=a[href*=\\'angora-op-gui\\'][href*=\\'view-people\\']\")\\ntest.Angora.search_op(\" \".join([\"ppu\", data.partner]))\\n\\nbrowser.press(\"Edit\")\\ntest.Angora.select_multi_op(\"msl:User Permissions\", \"Portal Admin\")\\ntest.Angora.select_multi_op(\"msl:User Permissions\", \"Portal Edit\")\\ntest.Angora.select_multi_op(\"msl:User Permissions\", \"Portal Ticketing\")\\nbrowser.submit_btn(\"Update\")', '---------------------------------------------------------------------------AttributeError                            Traceback (most recent call last)<ipython-input-15-888d32b9b72a> in <module>()\\n----> 1 data.pp_username = test.configparser.data(\"pp_username\")\\n      2 data.pp_password = test.configparser.data(\"pp_password\")\\n      3 data.partner = test.Angora.login_pp(data)\\n      4 \\n      5 test.current_user = test.Angora.login_op(data)\\nAttributeError: \\'Test\\' object has no attribute \\'configparser\\''"
   ]
  },
  {
   "cell_type": "code",
   "execution_count": 2,
   "metadata": {
    "collapsed": false
   },
   "outputs": [
    {
     "name": "stdout",
     "output_type": "stream",
     "text": [
      "('data.pp_username = test.configparser.data(\"pp_username\")\\n'\n",
      " 'data.pp_password = test.configparser.data(\"pp_password\")\\n'\n",
      " 'data.partner = test.Angora.login_pp(data)\\n'\n",
      " '\\n'\n",
      " 'test.current_user = test.Angora.login_op(data)\\n'\n",
      " 'browser.press(test.current_user)\\n'\n",
      " 'browser.press(\"css=a[href*=\\'angora-op-gui\\'][href*=\\'view-people\\']\")\\n'\n",
      " 'test.Angora.search_op(\" \".join([\"ppu\", data.partner]))\\n'\n",
      " '\\n'\n",
      " 'browser.press(\"Edit\")\\n'\n",
      " 'test.Angora.select_multi_op(\"msl:User Permissions\", \"Portal Admin\")\\n'\n",
      " 'test.Angora.select_multi_op(\"msl:User Permissions\", \"Portal Edit\")\\n'\n",
      " 'test.Angora.select_multi_op(\"msl:User Permissions\", \"Portal Ticketing\")\\n'\n",
      " 'browser.submit_btn(\"Update\")',\n",
      " '---------------------------------------------------------------------------AttributeError                            '\n",
      " 'Traceback (most recent call last)<ipython-input-15-888d32b9b72a> in '\n",
      " '<module>()\\n'\n",
      " '----> 1 data.pp_username = test.configparser.data(\"pp_username\")\\n'\n",
      " '      2 data.pp_password = test.configparser.data(\"pp_password\")\\n'\n",
      " '      3 data.partner = test.Angora.login_pp(data)\\n'\n",
      " '      4 \\n'\n",
      " '      5 test.current_user = test.Angora.login_op(data)\\n'\n",
      " \"AttributeError: 'Test' object has no attribute 'configparser'\")\n"
     ]
    }
   ],
   "source": [
    "import pprint\n",
    "pprint.pprint(trace)"
   ]
  }
 ],
 "metadata": {
  "kernelspec": {
   "display_name": "Python 3",
   "language": "python",
   "name": "python3"
  },
  "language_info": {
   "codemirror_mode": {
    "name": "ipython",
    "version": 3
   },
   "file_extension": ".py",
   "mimetype": "text/x-python",
   "name": "python",
   "nbconvert_exporter": "python",
   "pygments_lexer": "ipython3",
   "version": "3.5.0"
  }
 },
 "nbformat": 4,
 "nbformat_minor": 0
}
