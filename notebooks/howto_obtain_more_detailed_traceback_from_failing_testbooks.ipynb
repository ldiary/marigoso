{
 "cells": [
  {
   "cell_type": "markdown",
   "metadata": {},
   "source": [
    "## How to obtain more detailed traceback from failing testbooks\n",
    "When testbooks are importing functions written in a different notebook, sometimes the traceback that you get are not very helpful."
   ]
  },
  {
   "cell_type": "markdown",
   "metadata": {},
   "source": [
    "```\n",
    "---------------------------------------------------------------------------\n",
    "IndexError                                Traceback (most recent call last)\n",
    "<ipython-input-9-e035eae301fc> in <module>()\n",
    "----> 1 test.Angora.read_opdmr(\"Portal User Permissions\")\n",
    "\n",
    "C:\\Users\\ernesto.luzon\\tronline\\nboss-ci\\testrunner\\notebooks\\Angora.ipynb in read_opdmr(self, header, target_row)\n",
    "\n",
    "C:\\Users\\ernesto.luzon\\tronline\\nboss-ci\\testrunner\\notebooks\\TableReaders.ipynb in get_table(self, coordinate, target_row)\n",
    "\n",
    "IndexError: list index out of range\n",
    "```"
   ]
  },
  {
   "cell_type": "markdown",
   "metadata": {},
   "source": [
    "In order to get a more detailed traceback, you can override the imported functions by copy and pasting it to your current testbook. You will need the \"register_function\" to do this."
   ]
  },
  {
   "cell_type": "markdown",
   "metadata": {},
   "source": [
    "```\n",
    "---------------------------------------------------------------------------\n",
    "IndexError                                Traceback (most recent call last)\n",
    "<ipython-input-21-80abfe58cf7c> in <module>()\n",
    "      2                    \"/../../../../following-sibling::\"\n",
    "      3                    \"div/div/table\")\n",
    "----> 4 browser.get_table(locator.format(\"Portal User Permissions\"))\n",
    "\n",
    "<ipython-input-20-145957924c5f> in get_table(self, coordinate, target_row)\n",
    "     53         # This handles the rowspan\n",
    "     54         for i in range(columns + index):\n",
    "---> 55             dictionary[headers[i]].append(dictionary[headers[i]][-1])\n",
    "     56         num += 1\n",
    "     57         if target_row is not None:\n",
    "\n",
    "IndexError: list index out of range\n",
    "```"
   ]
  }
 ],
 "metadata": {
  "kernelspec": {
   "display_name": "Python 3",
   "language": "python",
   "name": "python3"
  },
  "language_info": {
   "codemirror_mode": {
    "name": "ipython",
    "version": 3
   },
   "file_extension": ".py",
   "mimetype": "text/x-python",
   "name": "python",
   "nbconvert_exporter": "python",
   "pygments_lexer": "ipython3",
   "version": "3.5.0"
  }
 },
 "nbformat": 4,
 "nbformat_minor": 0
}
