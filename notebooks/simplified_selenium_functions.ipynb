{
 "cells": [
  {
   "cell_type": "code",
   "execution_count": 1,
   "metadata": {
    "collapsed": false
   },
   "outputs": [
    {
     "data": {
      "text/html": [
       "<style>\n",
       "table {float:left}\n",
       "</style>"
      ],
      "text/plain": [
       "<IPython.core.display.HTML object>"
      ]
     },
     "metadata": {},
     "output_type": "display_data"
    }
   ],
   "source": [
    "%%html\n",
    "<style>\n",
    "table {float:left}\n",
    "</style>"
   ]
  },
  {
   "cell_type": "markdown",
   "metadata": {},
   "source": [
    "## Simplified Selenium Functions"
   ]
  },
  {
   "cell_type": "markdown",
   "metadata": {},
   "source": [
    "For example, if you are using Selenium in your automated functional tests,\n",
    "instead of coding directly in Selenium like this:"
   ]
  },
  {
   "cell_type": "code",
   "execution_count": null,
   "metadata": {
    "collapsed": true
   },
   "outputs": [],
   "source": [
    "from selenium import webdriver\n",
    "browser = webdriver.Firefox()\n",
    "browser.get('https://python.org.')\n",
    "download = browser.find_element_by_link_text('Downloads')\n",
    "download.click()\n",
    "download = browser.find_element_by_id('downloads')\n",
    "ul = download.find_element_by_tag_name('ul')\n",
    "lis = ul.find_elements_by_tag_name('li')"
   ]
  },
  {
   "cell_type": "markdown",
   "metadata": {},
   "source": [
    "You can alternatively use Marigoso functions to help you code a little bit better like this:"
   ]
  },
  {
   "cell_type": "code",
   "execution_count": 2,
   "metadata": {
    "collapsed": true
   },
   "outputs": [],
   "source": [
    "from marigoso import Test\n",
    "browser = Test().launch_browser('Firefox')\n",
    "browser.get_url('https://python.org')\n",
    "browser.press('Downloads')\n",
    "download = browser.get_element('id=downloads')\n",
    "ul = download.get_child('tag=ul')\n",
    "lis = ul.get_children('tag=li')"
   ]
  },
  {
   "cell_type": "markdown",
   "metadata": {},
   "source": [
    "Listed below are some of the functions provided by Marigoso and their equivalent functions in Selenium. Since Marigoso\n",
    "is just a layer that sits on top of Selenium, you can still use Selenium functions while taking advantage of the\n",
    "alternative functions provided by Marigoso."
   ]
  },
  {
   "cell_type": "markdown",
   "metadata": {},
   "source": [
    "### Getting a Single Web Element from a Web Page\n",
    "\n",
    "|Marigoso | Selenium|\n",
    "|:-------|------------------------------------------------------------------------|\n",
    "|get_element(\"css=xxx\")  | *find_element_by_css_selector(\"xxx\")*|\n",
    "|get_element(\"xpath=xxx\")| *find_element_by_xpath(\"xxx\")*|\n",
    "|get_element(\"xxx\")      | *find_element_by_link_text(\"xxx\")*|\n",
    "|get_element(\"class=xxx\")| *find_element_by_class_name(\"xxx\")*|\n",
    "|get_element(\"id=xxx\")   | *find_element_by_id(\"xxx\")*|\n",
    "|get_element(\"name=xxx\") | *find_element_by_name(\"xxx\")* |\n",
    "|get_element(\"plink=xxx\")| *find_element_by_partial_link_text(\"xxx\")*|\n",
    "|get_element(\"tag=xxx\")  | *find_element_by_tag_name(\"xxx\")*|"
   ]
  },
  {
   "cell_type": "markdown",
   "metadata": {},
   "source": [
    "### Getting Multiple Web Elements from a Web Page\n",
    "\n",
    "|Marigoso | Selenium|\n",
    "|:-------|------------------------------------------------------------------------|\n",
    "|get_all(\"css=xxx\")   | *find_elements_by_css_selector(\"xxx\")*|\n",
    "|get_all(\"xpath=xxx\") | *find_elements_by_xpath(\"xxx\")*|\n",
    "|get_all(\"xxx\")       | *find_elements_by_link_text(\"xxx\")*|\n",
    "|get_all(\"class=xxx\") | *find_elements_by_class_name(\"xxx\")*|\n",
    "|get_all(\"id=xxx\")    | *find_elements_by_id(\"xxx\")*|\n",
    "|get_all(\"name=xxx\")  | *find_elements_by_name(\"xxx\")* |\n",
    "|get_all(\"plink=xxx\") | *find_elements_by_partial_link_text(\"xxx\")*|\n",
    "|get_all(\"tag=xxx\")   | *find_elements_by_tag_name(\"xxx\")*|"
   ]
  },
  {
   "cell_type": "markdown",
   "metadata": {},
   "source": [
    "### Getting a Single Web Element from a given Web Element\n",
    "\n",
    "|Marigoso | Selenium|\n",
    "|:-------|------------------------------------------------------------------------|\n",
    "|element.get_child(\"css=xxx\")  | *element.find_element_by_css_selector(\"xxx\")*|\n",
    "|element.get_child(\"xpath=xxx\")| *element.find_element_by_xpath(\"xxx\")*|\n",
    "|element.get_child(\"xxx\")      | *element.find_element_by_link_text(\"xxx\")*|\n",
    "|element.get_child(\"class=xxx\")| *element.find_element_by_class_name(\"xxx\")*|\n",
    "|element.get_child(\"id=xxx\")   | *element.find_element_by_id(\"xxx\")*|\n",
    "|element.get_child(\"name=xxx\") | *element.find_element_by_name(\"xxx\")* |\n",
    "|element.get_child(\"plink=xxx\")| *element.find_element_by_partial_link_text(\"xxx\")*|\n",
    "|element.get_child(\"tag=xxx\")  | *element.find_element_by_tag_name(\"xxx\")*|"
   ]
  },
  {
   "cell_type": "markdown",
   "metadata": {},
   "source": [
    "### Getting Multiple Web Elements from a given Web Element\n",
    "\n",
    "|Marigoso | Selenium|\n",
    "|:-------|------------------------------------------------------------------------|\n",
    "|element.get_children(\"css=xxx\")   | *element.find_elements_by_css_selector(\"xxx\")*|\n",
    "|element.get_children(\"xpath=xxx\") | *element.find_elements_by_xpath(\"xxx\")*|\n",
    "|element.get_children(\"xxx\")       | *element.find_elements_by_link_text(\"xxx\")*|\n",
    "|element.get_children(\"class=xxx\") | *element.find_elements_by_class_name(\"xxx\")*|\n",
    "|element.get_children(\"id=xxx\")    | *element.find_elements_by_id(\"xxx\")*|\n",
    "|element.get_children(\"name=xxx\")  | *element.find_elements_by_name(\"xxx\")* |\n",
    "|element.get_children(\"plink=xxx\") | *element.find_elements_by_partial_link_text(\"xxx\")*|\n",
    "|element.get_children(\"tag=xxx\")   | *element.find_elements_by_tag_name(\"xxx\")*|"
   ]
  },
  {
   "cell_type": "code",
   "execution_count": null,
   "metadata": {
    "collapsed": true
   },
   "outputs": [],
   "source": []
  }
 ],
 "metadata": {
  "kernelspec": {
   "display_name": "Python 3",
   "language": "python",
   "name": "python3"
  },
  "language_info": {
   "codemirror_mode": {
    "name": "ipython",
    "version": 3
   },
   "file_extension": ".py",
   "mimetype": "text/x-python",
   "name": "python",
   "nbconvert_exporter": "python",
   "pygments_lexer": "ipython3",
   "version": "3.5.0"
  }
 },
 "nbformat": 4,
 "nbformat_minor": 0
}
