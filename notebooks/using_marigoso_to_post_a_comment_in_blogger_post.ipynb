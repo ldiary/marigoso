{
 "cells": [
  {
   "cell_type": "markdown",
   "metadata": {},
   "source": [
    "# Using marigoso to Post a Comment to a Blogger Post  \n",
    "A simple tutorial demonstrating how to use marigoso to automatically launch a browser and post a comment to a blog post. "
   ]
  },
  {
   "cell_type": "markdown",
   "metadata": {},
   "source": [
    "## Install marigoso\n",
    "Execute the command below to install marigoso."
   ]
  },
  {
   "cell_type": "code",
   "execution_count": null,
   "metadata": {},
   "outputs": [],
   "source": [
    "pip install -U marigoso"
   ]
  },
  {
   "cell_type": "markdown",
   "metadata": {},
   "source": [
    "## Launch the browser\n",
    "We can use marigoso Test to launch a browser."
   ]
  },
  {
   "cell_type": "code",
   "execution_count": 3,
   "metadata": {},
   "outputs": [],
   "source": [
    "from marigoso import Test\n",
    "browser = Test().launch_browser(\"Firefox\")"
   ]
  },
  {
   "cell_type": "markdown",
   "metadata": {},
   "source": [
    "![blank](https://github.com/ldiary/marigoso/blob/master/notes/images/blank_firefox.PNG?raw=true)"
   ]
  },
  {
   "cell_type": "markdown",
   "metadata": {},
   "source": [
    "## Navigate\n",
    "Once the browser is launched it will display a blank page. We then instruct this browser to navigate to the blog post."
   ]
  },
  {
   "cell_type": "code",
   "execution_count": 4,
   "metadata": {},
   "outputs": [],
   "source": [
    "browser.get_url(\"http://pytestuk.blogspot.co.uk/2015/11/testing.html\")"
   ]
  },
  {
   "cell_type": "markdown",
   "metadata": {},
   "source": [
    "![Comment Form](https://github.com/ldiary/marigoso/blob/master/notes/images/blogger_comment_form.PNG?raw=true)"
   ]
  },
  {
   "cell_type": "markdown",
   "metadata": {},
   "source": [
    "## Accept Google's Cookie Policy\n",
    "Once the browser has visited Blogger, it may or may not display the Cookie Policy of Google. We then use the \"press_available\" function of the browser to accept that policy if it is available."
   ]
  },
  {
   "cell_type": "code",
   "execution_count": 5,
   "metadata": {},
   "outputs": [],
   "source": [
    "browser.press_available(\"id=cookieChoiceDismiss\")"
   ]
  },
  {
   "cell_type": "markdown",
   "metadata": {},
   "source": [
    "## Switch to iFrame\n",
    "The comment section or comment form of the post is inside an iframe. In order for us to be able to interact with the comment form, we need to use the Selenium function called \"switch_to.frame\". First we obtain the iframe and then switch into it."
   ]
  },
  {
   "cell_type": "code",
   "execution_count": 6,
   "metadata": {},
   "outputs": [],
   "source": [
    "iframe = browser.get_element(\"css=div#bc_0_0T_box iframe\")\n",
    "browser.switch_to.frame(iframe)"
   ]
  },
  {
   "cell_type": "markdown",
   "metadata": {},
   "source": [
    "## Keyboard Type\n",
    "After switching to the comment iframe, we can finally interact with the comment form. We grab the comment field and enter anything we would like to say. Here we are simulating the action of typing something in the keyboard to enter into the comment form."
   ]
  },
  {
   "cell_type": "code",
   "execution_count": 7,
   "metadata": {},
   "outputs": [],
   "source": [
    "browser.kb_type(\"id=commentBodyField\", \"An example of Selenium automation in Python.\")"
   ]
  },
  {
   "cell_type": "markdown",
   "metadata": {},
   "source": [
    "## Select an Item from a Dropdown Menu\n",
    "We then simulate mouse movement for selecting an item in a dropdown menu. You will not see any actual mouse movement in this case however, because we will just grab the dropdown and instruct it to select the item we want."
   ]
  },
  {
   "cell_type": "code",
   "execution_count": 8,
   "metadata": {},
   "outputs": [
    {
     "data": {
      "text/plain": [
       "True"
      ]
     },
     "execution_count": 8,
     "output_type": "execute_result",
     "metadata": {}
    }
   ],
   "source": [
    "browser.select_text(\"id=identityMenu\", \"Google Account\")"
   ]
  },
  {
   "cell_type": "markdown",
   "metadata": {},
   "source": [
    "After simulating the keyboard typing and dropdown selection, the page should now look like the image below:"
   ]
  },
  {
   "cell_type": "markdown",
   "metadata": {},
   "source": [
    "![Comment Filled](https://github.com/ldiary/marigoso/blob/master/notes/images/blogger_comment_filled.PNG?raw=true)"
   ]
  },
  {
   "cell_type": "markdown",
   "metadata": {},
   "source": [
    "## Submit the Form\n",
    "Finally, we submit the form by using the \"submit_btn\" function, which will simulate pressing the \"Publish\" button in the page."
   ]
  },
  {
   "cell_type": "code",
   "execution_count": 9,
   "metadata": {},
   "outputs": [],
   "source": [
    "browser.submit_btn(\"Publish\")"
   ]
  },
  {
   "cell_type": "markdown",
   "metadata": {},
   "source": [
    "After clicking the \"Publish\" button, the page will then be redirected to the Google Sign-in page. What goes beyond here is now an exercise for the reader. Please try it on your own. Write the next code that will automatically log you to your Google Account."
   ]
  },
  {
   "cell_type": "markdown",
   "metadata": {},
   "source": [
    "![Sign In](https://github.com/ldiary/marigoso/blob/master/notes/images/google_signin.PNG?raw=true)"
   ]
  },
  {
   "cell_type": "markdown",
   "metadata": {},
   "source": [
    "## Disposing the browser\n",
    "Once your finished, you can quit the the browser using the command below."
   ]
  },
  {
   "cell_type": "code",
   "execution_count": 10,
   "metadata": {},
   "outputs": [],
   "source": [
    "browser.quit()"
   ]
  }
 ],
 "metadata": {
  "kernelspec": {
   "display_name": "Python 3",
   "language": "python",
   "name": "python3"
  },
  "language_info": {
   "codemirror_mode": {
    "name": "ipython",
    "version": 3.0
   },
   "file_extension": ".py",
   "mimetype": "text/x-python",
   "name": "python",
   "nbconvert_exporter": "python",
   "pygments_lexer": "ipython3",
   "version": "3.5.1"
  }
 },
 "nbformat": 4,
 "nbformat_minor": 0
}