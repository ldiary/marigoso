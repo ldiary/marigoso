{
 "cells": [
  {
   "cell_type": "markdown",
   "metadata": {},
   "source": [
    "## Using pytest as the test runner of BDD style tests written in Jupyter (ipython) notebook"
   ]
  },
  {
   "cell_type": "markdown",
   "metadata": {},
   "source": [
    "What we have:  \n",
    "1) a BDD style feature requirements and their corresponding manual and automated tests all written in a single executable file  \n",
    "2) the file is executable because it is a Jupyter (ipython) notebook which can contain both markup and python code  \n",
    "3) the tests use Selenium extensively since it is testing web application features\n",
    "\n",
    "And here is an example of such file: [An example of using Jupyter for Documenting and Automating BDD Style Tests](https://github.com/ldiary/marigoso/blob/master/notebooks/an_example_of_using_jupyter_for_documenting_and_automating_bdd_style_tests.ipynb)"
   ]
  },
  {
   "cell_type": "markdown",
   "metadata": {
    "collapsed": true
   },
   "source": [
    "### Discovering the Tests\n",
    "To see if pytest can really discover the scenario and its test steps, we issue a pytest collect only command:"
   ]
  },
  {
   "cell_type": "code",
   "execution_count": null,
   "metadata": {
    "collapsed": false
   },
   "outputs": [],
   "source": [
    "! py.test -sv --collect-only"
   ]
  },
  {
   "cell_type": "markdown",
   "metadata": {},
   "source": [
    "![collectonly](https://github.com/ldiary/marigoso/blob/master/notebooks/images/pytest_sv_collectonly.PNG?raw=true)"
   ]
  },
  {
   "cell_type": "markdown",
   "metadata": {},
   "source": [
    "From the collection report of pytest above, you can see that there is one TestScenario that was collected. This TestScenario has five TestSteps associated with it."
   ]
  },
  {
   "cell_type": "markdown",
   "metadata": {},
   "source": [
    "### Running the Test Scenario\n",
    "To run the tests, we remove the --collect-only argument from our original command:"
   ]
  },
  {
   "cell_type": "code",
   "execution_count": null,
   "metadata": {
    "collapsed": true
   },
   "outputs": [],
   "source": [
    "! py.test -sv"
   ]
  },
  {
   "cell_type": "markdown",
   "metadata": {},
   "source": [
    "![runningtest](https://github.com/ldiary/marigoso/blob/master/notebooks/images/pytest_sv.PNG?raw=true)"
   ]
  },
  {
   "cell_type": "markdown",
   "metadata": {},
   "source": [
    "From test run report above, you can see that all the test steps has passed."
   ]
  }
 ],
 "metadata": {
  "kernelspec": {
   "display_name": "Python 3",
   "language": "python",
   "name": "python3"
  },
  "language_info": {
   "codemirror_mode": {
    "name": "ipython",
    "version": 3
   },
   "file_extension": ".py",
   "mimetype": "text/x-python",
   "name": "python",
   "nbconvert_exporter": "python",
   "pygments_lexer": "ipython3",
   "version": "3.5.0"
  }
 },
 "nbformat": 4,
 "nbformat_minor": 0
}
