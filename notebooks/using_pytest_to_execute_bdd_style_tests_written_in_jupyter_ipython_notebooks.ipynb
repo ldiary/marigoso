{
 "cells": [
  {
   "cell_type": "markdown",
   "metadata": {},
   "source": [
    "## Using pytest as the test runner of BDD style tests written in Jupyter (ipython) notebook"
   ]
  },
  {
   "cell_type": "markdown",
   "metadata": {},
   "source": [
    "What we have:  \n",
    "1) a BDD style feature requirements and their corresponding manual and automated tests all written in a single executable file  \n",
    "2) the file is executable because it is a Jupyter (ipython) notebook which can contain both markup and python code  \n",
    "3) the tests use Selenium extensively since it is testing web application features\n",
    "\n",
    "And here is an example of such file: [An example of using Jupyter for Documenting and Automating BDD Style Tests](https://github.com/ldiary/pytest-notebook)"
   ]
  },
  {
   "cell_type": "code",
   "execution_count": null,
   "metadata": {
    "collapsed": true
   },
   "outputs": [],
   "source": []
  }
 ],
 "metadata": {
  "kernelspec": {
   "display_name": "Python 3",
   "language": "python",
   "name": "python3"
  },
  "language_info": {
   "codemirror_mode": {
    "name": "ipython",
    "version": 3
   },
   "file_extension": ".py",
   "mimetype": "text/x-python",
   "name": "python",
   "nbconvert_exporter": "python",
   "pygments_lexer": "ipython3",
   "version": "3.5.0"
  }
 },
 "nbformat": 4,
 "nbformat_minor": 0
}
