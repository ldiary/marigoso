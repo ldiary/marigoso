{
 "cells": [
  {
   "cell_type": "markdown",
   "metadata": {},
   "source": [
    "## Behavior-Driven Requirements"
   ]
  },
  {
   "cell_type": "markdown",
   "metadata": {},
   "source": [
    "|Scenario | Can Not Post Comment as Anonymous|\n",
    "|:-------:|------------------------------------------------------------------------|\n",
    "|**Given**| *I am a Blogger anonymous user.*                                       |\n",
    "|**And**  | *I am not logged in to any google account.*                            |   \n",
    "|**When** | *I post a comment to a blog post.*                                     |\n",
    "|**Then** | *the comment input must be successful.*                                |\n",
    "|**But**  | *I must be prompted to login first before post can be completed.*      |"
   ]
  },
  {
   "cell_type": "code",
   "execution_count": 36,
   "metadata": {
    "collapsed": false
   },
   "outputs": [
    {
     "data": {
      "text/html": [
       "<style>\n",
       "table {float:left}\n",
       "</style>"
      ],
      "text/plain": [
       "<IPython.core.display.HTML object>"
      ]
     },
     "metadata": {},
     "output_type": "display_data"
    }
   ],
   "source": [
    "%%html\n",
    "<style>\n",
    "table {float:left}\n",
    "</style>"
   ]
  },
  {
   "cell_type": "markdown",
   "metadata": {},
   "source": [
    "##  Given I am a Blogger anonymous user. \n",
    "|Step|Actions|Expected Results|\n",
    "|:------:|---|----------------|\n",
    "|01| Launch a browser and navigate to Blogger website.| The loaded page should contain a header asking you to sign in to Blogger.| "
   ]
  },
  {
   "cell_type": "code",
   "execution_count": 37,
   "metadata": {
    "collapsed": false
   },
   "outputs": [],
   "source": [
    "from marigoso import Test\n",
    "browser = Test().launch_browser(\"Firefox\")\n",
    "browser.get_url(\"https://www.blogger.com/\")\n",
    "header = browser.get_element(\"tag=h2\")\n",
    "assert header.text == \"Sign in to continue to Blogger\""
   ]
  },
  {
   "cell_type": "markdown",
   "metadata": {},
   "source": [
    "## And I am not logged in to any google account.\n",
    "|Step|Actions|Expected Results|\n",
    "|:------:|---|----------------|\n",
    "|02| Navigate to any other Google services you are subscribed to, e.g Gmail.| The loaded page should contain a header asking you to sign in to that Google service.| "
   ]
  },
  {
   "cell_type": "code",
   "execution_count": 38,
   "metadata": {
    "collapsed": false
   },
   "outputs": [],
   "source": [
    "browser.get_url(\"https://mail.google.com/\")\n",
    "header = browser.get_element(\"tag=h2\")\n",
    "assert header.text == \"Sign in to continue to Gmail\""
   ]
  },
  {
   "cell_type": "markdown",
   "metadata": {},
   "source": [
    "## When I post a comment to a blog post.\n",
    "|Step|Actions|Expected Results|\n",
    "|:------:|---|----------------|\n",
    "|03| Navigate to a particular post in Blogger.| Page must load successfully.|\n",
    "|04| If there is a Cookie Notice from Google, dismiss it.| Cookie notice must be dismissed successfully.|\n",
    "|05| Provide the following input: | Input must be successfull.|\n",
    "|  | **Comment body**| *An example of Selenium automation in Python.*|\n",
    "|  | **Comment as**  | *Google Account*|"
   ]
  },
  {
   "cell_type": "code",
   "execution_count": 39,
   "metadata": {
    "collapsed": false
   },
   "outputs": [],
   "source": [
    "browser.get_url(\"http://pytestuk.blogspot.co.uk/2015/11/testing.html\")\n",
    "browser.press_available(\"id=cookieChoiceDismiss\")\n",
    "iframe = browser.get_element(\"css=div#bc_0_0T_box iframe\")\n",
    "browser.switch_to.frame(iframe)\n",
    "browser.kb_type(\"id=commentBodyField\", \"An example of Selenium automation in Python.\")\n",
    "assert browser.select_text(\"id=identityMenu\", \"Google Account\")"
   ]
  },
  {
   "cell_type": "markdown",
   "metadata": {},
   "source": [
    "##  Then the comment input must be successful. \n",
    "|Step|Actions|Expected Results|\n",
    "|:------:|---|----------------|\n",
    "|06| Press the \"Publish\" button at the buttom of the page.| The page must be submitted without errors.| "
   ]
  },
  {
   "cell_type": "code",
   "execution_count": 40,
   "metadata": {
    "collapsed": false
   },
   "outputs": [],
   "source": [
    "browser.submit_btn(\"Publish\")\n",
    "assert not browser.is_available(\"id=main-error\")"
   ]
  },
  {
   "cell_type": "markdown",
   "metadata": {},
   "source": [
    "## But I must be prompted to login first before post can be completed. \n",
    "|Step|Actions|Expected Results|\n",
    "|:------:|---|----------------|\n",
    "|07| Observe the landing page after submitting the \"Publish\" button.| The page must ask you to login to Blogger.| "
   ]
  },
  {
   "cell_type": "code",
   "execution_count": 41,
   "metadata": {
    "collapsed": false
   },
   "outputs": [
    {
     "name": "stdout",
     "output_type": "stream",
     "text": [
      "All tests passed on Sat Jan  9 03:26:43 2016.\n"
     ]
    }
   ],
   "source": [
    "header = browser.get_element(\"tag=h2\")\n",
    "assert header.text == \"Sign in to continue to Blogger\"\n",
    "browser.quit()\n",
    "\n",
    "import time\n",
    "localtime = time.asctime(time.localtime(time.time()))\n",
    "print(\"All tests passed on {}.\".format(localtime))"
   ]
  }
 ],
 "metadata": {
  "kernelspec": {
   "display_name": "Python 3",
   "language": "python",
   "name": "python3"
  },
  "language_info": {
   "codemirror_mode": {
    "name": "ipython",
    "version": 3
   },
   "file_extension": ".py",
   "mimetype": "text/x-python",
   "name": "python",
   "nbconvert_exporter": "python",
   "pygments_lexer": "ipython3",
   "version": "3.5.1"
  }
 },
 "nbformat": 4,
 "nbformat_minor": 0
}
