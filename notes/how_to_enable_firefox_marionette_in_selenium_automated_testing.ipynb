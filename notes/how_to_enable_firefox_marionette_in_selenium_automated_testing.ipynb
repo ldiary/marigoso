{
 "cells": [
  {
   "cell_type": "markdown",
   "metadata": {},
   "source": [
    "## How to Enable Firefox Marionette in Selenium WebDriver\n",
    "Please refer to the official documentation for more details. [Using Marionette via WebDriver](https://developer.mozilla.org/en-US/docs/Mozilla/QA/Marionette/WebDriver)\n",
    "\n",
    "### Prerequisites\n",
    "\n",
    "1. Download the latest [Firefox nightly build](https://nightly.mozilla.org/)\n",
    "2. Download the latest [Marionette executable] (https://github.com/jgraham/wires/releases)\n",
    "\n",
    "### Test Code"
   ]
  },
  {
   "cell_type": "code",
   "execution_count": null,
   "metadata": {
    "collapsed": true
   },
   "outputs": [],
   "source": [
    "import os\n",
    "data_path = os.path.expanduser(os.path.join('~', 'tronline', 'nboss-ci', 'testrunner'))\n",
    "\n",
    "from marigoso import Test\n",
    "request = {\n",
    "    'browser': 'Firefox',\n",
    "    'firefox':     {\n",
    "        'capabilities': {\n",
    "            'marionette': True,\n",
    "            'binary': r'C:\\Program Files\\Nightly\\firefox.exe'\n",
    "        },\n",
    "    },\n",
    "}\n",
    "test = Test(request)\n",
    "test.launch_browser()\n",
    "test.browser.get_url(\"http://www.python.org\")"
   ]
  },
  {
   "cell_type": "markdown",
   "metadata": {},
   "source": [
    "### Remarks\n",
    "1. Wires, the marionette executable, need to be added to your machine's PATH (therefore, you don't see it mentioned in the above code).\n",
    "2. [Marionette does not support Firefox profile](https://bugzilla.mozilla.org/show_bug.cgi?id=1231871) so you won't be able to automatically add extensions to the Firefox instance being launched by WebDriver."
   ]
  }
 ],
 "metadata": {
  "kernelspec": {
   "display_name": "Python 3",
   "language": "python",
   "name": "python3"
  },
  "language_info": {
   "codemirror_mode": {
    "name": "ipython",
    "version": 3
   },
   "file_extension": ".py",
   "mimetype": "text/x-python",
   "name": "python",
   "nbconvert_exporter": "python",
   "pygments_lexer": "ipython3",
   "version": "3.5.0"
  }
 },
 "nbformat": 4,
 "nbformat_minor": 0
}
