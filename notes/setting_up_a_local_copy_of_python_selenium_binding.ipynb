{
 "cells": [
  {
   "cell_type": "markdown",
   "metadata": {},
   "source": [
    "## Clone the Selenium repository in GitHub\n",
    "These repository contains all other supported bindings as well, but we are only interested in the Python binding.  \n",
    "Cloning process can take several minutes so you have plenty of time to go and get a cup of tea."
   ]
  },
  {
   "cell_type": "code",
   "execution_count": null,
   "metadata": {
    "collapsed": true
   },
   "outputs": [],
   "source": [
    "! git clone https://github.com/SeleniumHQ/selenium.git"
   ]
  },
  {
   "cell_type": "markdown",
   "metadata": {},
   "source": [
    "## Change directory to the cloned 'selenium' folder and attempt to install"
   ]
  },
  {
   "cell_type": "code",
   "execution_count": null,
   "metadata": {
    "collapsed": true
   },
   "outputs": [],
   "source": [
    "! cd selenium\n",
    "! go py_install"
   ]
  },
  {
   "cell_type": "markdown",
   "metadata": {},
   "source": [
    "### MaxPermSize Error\n",
    "If you encounter the following error, then you need to open 'go.bat' file inside the selenium folder and remove the \"-XX:MaxPermSize=1024m\". Save your changes to the 'go.bat' file and try again the 'go py_install' command. "
   ]
  },
  {
   "cell_type": "code",
   "execution_count": null,
   "metadata": {
    "collapsed": true
   },
   "outputs": [],
   "source": [
    "C:\\Users\\ernesto.luzon\\selenium>go py_install\n",
    "Java HotSpot(TM) Client VM warning: ignoring option MaxPermSize=1024m; support was removed in 8.0\n",
    "Error occurred during initialization of VM\n",
    "Could not reserve enough space for 2097152KB object heap"
   ]
  },
  {
   "cell_type": "markdown",
   "metadata": {},
   "source": [
    "### Heap Size Error\n",
    "If you encounter the following error, then you need to open the 'go.bat' file inside the selenium folder and change '-Xmx2048m' to '-Xmx512m'. Save your changes to the 'go.bat' file and try again the 'go py_install' command. "
   ]
  },
  {
   "cell_type": "code",
   "execution_count": null,
   "metadata": {
    "collapsed": true
   },
   "outputs": [],
   "source": [
    "C:\\Users\\ernesto.luzon\\selenium>go py_install\n",
    "Error occurred during initialization of VM\n",
    "Could not reserve enough space for 2097152KB object heap"
   ]
  },
  {
   "cell_type": "markdown",
   "metadata": {},
   "source": [
    "### Can't copy non-existing file errors\n",
    "If you get the following syntax errors:"
   ]
  },
  {
   "cell_type": "code",
   "execution_count": null,
   "metadata": {
    "collapsed": true
   },
   "outputs": [],
   "source": [
    "installing package data to build\\bdist.win32\\egg\n",
    "running install_data\n",
    "creating build\\bdist.win32\\egg\\selenium\\webdriver\\firefox\\x86\n",
    "  File \"build\\bdist.win32\\egg\\selenium\\test\\selenium\\webdriver\\browser_specific_template.py\", line 21\n",
    "    from selenium.##PACKAGE_NAME## import ##GENERAL_FILENAME##\n",
    "                                                             ^\n",
    "SyntaxError: invalid syntax\n",
    "\n",
    "error: can't copy 'py\\selenium\\webdriver\\firefox\\x86\\x_ignore_nofocus.so': doesn't exist or not a regular file\n",
    "go aborted!\n",
    "Command failed with status (1): [C:\\Python27\\python.exe setup.py install...]\n",
    "\n",
    "(See full trace by running task with --trace)"
   ]
  },
  {
   "cell_type": "markdown",
   "metadata": {},
   "source": [
    "run the following command before trying 'go py_install' again."
   ]
  },
  {
   "cell_type": "code",
   "execution_count": null,
   "metadata": {
    "collapsed": true
   },
   "outputs": [],
   "source": [
    "! go py_prep_for_install_release"
   ]
  },
  {
   "cell_type": "markdown",
   "metadata": {},
   "source": [
    "### Syntax Errors\n",
    "If you get the following syntax errors:"
   ]
  },
  {
   "cell_type": "code",
   "execution_count": null,
   "metadata": {
    "collapsed": true
   },
   "outputs": [],
   "source": [
    "Finished processing dependencies for selenium==2.48.0\n",
    "  File \"build\\bdist.win32\\egg\\selenium\\test\\selenium\\webdriver\\browser_specific_template.py\", line 21\n",
    "    from selenium.##PACKAGE_NAME## import ##GENERAL_FILENAME##\n",
    "                                                             ^\n",
    "SyntaxError: invalid syntax\n",
    "\n",
    "  File \"c:\\python27\\lib\\site-packages\\selenium-2.48.0-py2.7.egg\\selenium\\test\\selenium\\webdriver\\browser_specific_template.py\", line 21\n",
    "    from selenium.##PACKAGE_NAME## import ##GENERAL_FILENAME##\n",
    "                                                             ^\n",
    "SyntaxError: invalid syntax\n"
   ]
  },
  {
   "cell_type": "markdown",
   "metadata": {},
   "source": [
    "Open the file selenium\\py\\test\\selenium\\webdriver\\browser_specific_template.py\n",
    "     Then comment out the lines with SyntaxErrors"
   ]
  },
  {
   "cell_type": "markdown",
   "metadata": {},
   "source": [
    "#### [Before] browser_specific_template.py"
   ]
  },
  {
   "cell_type": "code",
   "execution_count": null,
   "metadata": {
    "collapsed": true
   },
   "outputs": [],
   "source": [
    "##CUSTOM_TEST_IMPORT##\n",
    "from selenium import webdriver\n",
    "from selenium.##PACKAGE_NAME## import ##GENERAL_FILENAME##\n",
    "from selenium.test.selenium.webdriver.common.webserver import SimpleWebServer\n",
    "from selenium.test.selenium.webdriver.common.network import get_lan_ip\n",
    "\n",
    "def setup_module(module):\n",
    "    ##CUSTOM_TEST_SETUP##\n",
    "    webserver = SimpleWebServer(host=get_lan_ip())\n",
    "    webserver.start()\n",
    "    ##BROWSER_SPECIFIC_TEST_CLASS##.webserver = webserver\n",
    "    ##BROWSER_SPECIFIC_TEST_CLASS##.driver = webdriver.##BROWSER_CONSTRUCTOR##\n",
    "\n",
    "\n",
    "class ##BROWSER_SPECIFIC_TEST_CLASS##(##GENERAL_FILENAME##.##GENERAL_TEST_CLASS##):\n",
    "    pass\n",
    "\n",
    "\n",
    "def teardown_module(module):\n",
    "    try:\n",
    "        ##BROWSER_SPECIFIC_TEST_CLASS##.driver.quit()\n",
    "    except AttributeError:\n",
    "        pass\n",
    "    try:\n",
    "        ##BROWSER_SPECIFIC_TEST_CLASS##.webserver.stop()\n",
    "    except AttributeError:\n",
    "        pass\n",
    "    ##CUSTOM_TEST_TEARDOWN##"
   ]
  },
  {
   "cell_type": "markdown",
   "metadata": {},
   "source": [
    "#### [After] browser_specific_template.py"
   ]
  },
  {
   "cell_type": "code",
   "execution_count": null,
   "metadata": {
    "collapsed": true
   },
   "outputs": [],
   "source": [
    "##CUSTOM_TEST_IMPORT##\n",
    "from selenium import webdriver\n",
    "# from selenium.##PACKAGE_NAME## import ##GENERAL_FILENAME##\n",
    "from selenium.test.selenium.webdriver.common.webserver import SimpleWebServer\n",
    "from selenium.test.selenium.webdriver.common.network import get_lan_ip\n",
    "\n",
    "def setup_module(module):\n",
    "    ##CUSTOM_TEST_SETUP##\n",
    "    webserver = SimpleWebServer(host=get_lan_ip())\n",
    "    webserver.start()\n",
    "    ##BROWSER_SPECIFIC_TEST_CLASS##.webserver = webserver\n",
    "    ##BROWSER_SPECIFIC_TEST_CLASS##.driver = webdriver.##BROWSER_CONSTRUCTOR##\n",
    "\n",
    "\n",
    "#class ##BROWSER_SPECIFIC_TEST_CLASS##(##GENERAL_FILENAME##.##GENERAL_TEST_CLASS##):\n",
    "#    pass\n",
    "\n",
    "\n",
    "def teardown_module(module):\n",
    "    try:\n",
    "        pass\n",
    "        ##BROWSER_SPECIFIC_TEST_CLASS##.driver.quit()\n",
    "    except AttributeError:\n",
    "        pass\n",
    "    try:\n",
    "        pass\n",
    "        ##BROWSER_SPECIFIC_TEST_CLASS##.webserver.stop()\n",
    "    except AttributeError:\n",
    "        pass\n",
    "    ##CUSTOM_TEST_TEARDOWN##"
   ]
  },
  {
   "cell_type": "markdown",
   "metadata": {},
   "source": [
    "## Install Selenium inside virtual environment\n",
    "If you are using virtualenv, selenium might not get installed after the above step.\n",
    "In which case you need to install it using the following command:"
   ]
  },
  {
   "cell_type": "code",
   "execution_count": null,
   "metadata": {
    "collapsed": true
   },
   "outputs": [],
   "source": [
    "! python setup.py install"
   ]
  },
  {
   "cell_type": "markdown",
   "metadata": {},
   "source": [
    "## Verify successfull installation\n",
    "If you run the following command, it should list 'selenium=x.x.x' in the list of successfully installed python packages."
   ]
  },
  {
   "cell_type": "code",
   "execution_count": null,
   "metadata": {
    "collapsed": false
   },
   "outputs": [],
   "source": [
    "! pip freeze"
   ]
  }
 ],
 "metadata": {
  "kernelspec": {
   "display_name": "Python 3",
   "language": "python",
   "name": "python3"
  },
  "language_info": {
   "codemirror_mode": {
    "name": "ipython",
    "version": 3
   },
   "file_extension": ".py",
   "mimetype": "text/x-python",
   "name": "python",
   "nbconvert_exporter": "python",
   "pygments_lexer": "ipython3",
   "version": "3.5.0"
  }
 },
 "nbformat": 4,
 "nbformat_minor": 0
}
